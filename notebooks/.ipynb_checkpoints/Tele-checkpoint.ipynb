{
 "cells": [
  {
   "cell_type": "code",
   "execution_count": 3,
   "id": "203b4df3",
   "metadata": {},
   "outputs": [
    {
     "name": "stdout",
     "output_type": "stream",
     "text": [
      "Tele.ipynb\r\n"
     ]
    }
   ],
   "source": [
    "!ls"
   ]
  },
  {
   "cell_type": "code",
   "execution_count": null,
   "id": "ac226701",
   "metadata": {},
   "outputs": [],
   "source": [
    "import pandas as pd"
   ]
  },
  {
   "cell_type": "code",
   "execution_count": null,
   "id": "7ba40f7c",
   "metadata": {},
   "outputs": [],
   "source": [
    "data  = pd.read_excel('../data/Week1_challenge_data_source.xlsx', na_values=['?', None])"
   ]
  },
  {
   "cell_type": "code",
   "execution_count": null,
   "id": "f0827bac",
   "metadata": {},
   "outputs": [],
   "source": [
    "data.head(5)"
   ]
  },
  {
   "cell_type": "code",
   "execution_count": null,
   "id": "a738c47d",
   "metadata": {},
   "outputs": [],
   "source": [
    "list(data.columns)"
   ]
  },
  {
   "cell_type": "code",
   "execution_count": null,
   "id": "7ad04089",
   "metadata": {},
   "outputs": [],
   "source": [
    "# number of data points\n",
    "print(f\" There are {data.shape[0]} rows and {data.shape[1]} columns\")"
   ]
  },
  {
   "cell_type": "code",
   "execution_count": null,
   "id": "6cf4309f",
   "metadata": {},
   "outputs": [],
   "source": [
    "import numpy as np\n",
    "\n",
    "# how many missing values exist or better still what is the % of missing values in the dataset?\n",
    "def percent_missing(df):\n",
    "\n",
    "    # Calculate total number of cells in dataframe\n",
    "    totalCells = np.product(df.shape)\n",
    "\n",
    "    # Count number of missing values per column\n",
    "    missingCount = df.isnull().sum()\n",
    "\n",
    "    # Calculate total number of missing values\n",
    "    totalMissing = missingCount.sum()\n",
    "\n",
    "    # Calculate percentage of missing values\n",
    "    print(\"The dataset contains\", round(((totalMissing/totalCells) * 100), 2), \"%\", \"missing values.\")\n",
    "\n",
    "percent_missing(data)"
   ]
  },
  {
   "cell_type": "code",
   "execution_count": null,
   "id": "efeaaec6",
   "metadata": {},
   "outputs": [],
   "source": [
    "# Now which column(s) has missing values\n",
    "data.isna().sum()"
   ]
  },
  {
   "cell_type": "markdown",
   "id": "beb0753b",
   "metadata": {},
   "source": [
    "##### Task 1.1 - Your employer wants to have an overview of the users’ behavior on those\n",
    "applications.\n",
    "\n",
    "Aggregate per user the following information in the column\n",
    "* number of xDR sessions\n",
    "* Session duration\n",
    "* the total download (DL) and upload (UL) data\n",
    "* the total data volume (in Bytes) during this session for each application"
   ]
  },
  {
   "cell_type": "code",
   "execution_count": null,
   "id": "a088881f",
   "metadata": {},
   "outputs": [],
   "source": [
    "#number_of_xDR_sessions = data.groupby(['MSISDN/Number', 'Bearer Id']).groups\n",
    "number_of_xDR_sessions = data.groupby(\"MSISDN/Number\")[\"Bearer Id\"].groups\n",
    "number_of_xDR_sessions"
   ]
  },
  {
   "cell_type": "code",
   "execution_count": null,
   "id": "da44762f",
   "metadata": {},
   "outputs": [],
   "source": [
    "#Session duration\n",
    "session_duration = data.groupby(['MSISDN/Number'])['Dur. (ms)'].sum()\n",
    "session_duration.head(5)"
   ]
  },
  {
   "cell_type": "code",
   "execution_count": null,
   "id": "9de34905",
   "metadata": {},
   "outputs": [],
   "source": []
  }
 ],
 "metadata": {
  "kernelspec": {
   "display_name": "Python 3",
   "language": "python",
   "name": "python3"
  },
  "language_info": {
   "codemirror_mode": {
    "name": "ipython",
    "version": 3
   },
   "file_extension": ".py",
   "mimetype": "text/x-python",
   "name": "python",
   "nbconvert_exporter": "python",
   "pygments_lexer": "ipython3",
   "version": "3.8.5"
  }
 },
 "nbformat": 4,
 "nbformat_minor": 5
}
